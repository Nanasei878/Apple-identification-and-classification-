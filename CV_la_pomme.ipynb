{
  "nbformat": 4,
  "nbformat_minor": 0,
  "metadata": {
    "colab": {
      "name": "CV_la_pomme.ipynb",
      "provenance": [],
      "authorship_tag": "ABX9TyOweEAhdmcDWCOiRz6aCRBD",
      "include_colab_link": true
    },
    "kernelspec": {
      "name": "python3",
      "display_name": "Python 3"
    },
    "language_info": {
      "name": "python"
    },
    "accelerator": "TPU"
  },
  "cells": [
    {
      "cell_type": "markdown",
      "metadata": {
        "id": "view-in-github",
        "colab_type": "text"
      },
      "source": [
        "<a href=\"https://colab.research.google.com/github/Nanasei878/Apple-identification-and-classification-/blob/main/CV_la_pomme.ipynb\" target=\"_parent\"><img src=\"https://colab.research.google.com/assets/colab-badge.svg\" alt=\"Open In Colab\"/></a>"
      ]
    },
    {
      "cell_type": "code",
      "metadata": {
        "colab": {
          "base_uri": "https://localhost:8080/"
        },
        "id": "Awk79YXsiw1m",
        "outputId": "e652c708-4009-49e6-cbd6-641ccb9ee195"
      },
      "source": [
        "from google.colab import drive\n",
        "\n",
        "drive.mount('/content/gdrive')"
      ],
      "execution_count": 1,
      "outputs": [
        {
          "output_type": "stream",
          "name": "stdout",
          "text": [
            "Mounted at /content/gdrive\n"
          ]
        }
      ]
    },
    {
      "cell_type": "code",
      "metadata": {
        "id": "eNx43NQKjojx"
      },
      "source": [
        "my_data_dir = '/content/gdrive/MyDrive/Fruitdata'"
      ],
      "execution_count": 2,
      "outputs": []
    },
    {
      "cell_type": "code",
      "metadata": {
        "id": "-l5R-l1Ljo7d"
      },
      "source": [
        "import os\n",
        "import pandas as pd\n",
        "import numpy as np\n",
        "import seaborn as sns\n",
        "import matplotlib.pyplot as plt\n",
        "from matplotlib.image import imread\n",
        "import cv2\n",
        "from google.colab.patches import cv2_imshow\n",
        "# Technically not necessary in newest versions of jupyter\n",
        "%matplotlib inline\n",
        "sns.set()"
      ],
      "execution_count": 3,
      "outputs": []
    },
    {
      "cell_type": "code",
      "metadata": {
        "colab": {
          "base_uri": "https://localhost:8080/"
        },
        "id": "PINmLfFVkn9b",
        "outputId": "3da4cd6e-8f76-48a5-886d-749bbb7e696c"
      },
      "source": [
        "# CONFIRM THAT THIS REPORTS BACK 'test', and 'train'\n",
        "os.listdir(my_data_dir) "
      ],
      "execution_count": 4,
      "outputs": [
        {
          "output_type": "execute_result",
          "data": {
            "text/plain": [
              "['test', 'train']"
            ]
          },
          "metadata": {},
          "execution_count": 4
        }
      ]
    },
    {
      "cell_type": "code",
      "metadata": {
        "id": "IJXTev89k1zw"
      },
      "source": [
        "#Setting the test and train data paths\n",
        "test_path = my_data_dir+'/test/'\n",
        "train_path = my_data_dir+'/train/'"
      ],
      "execution_count": 5,
      "outputs": []
    },
    {
      "cell_type": "code",
      "metadata": {
        "colab": {
          "base_uri": "https://localhost:8080/"
        },
        "id": "fh0kUyC1k7KS",
        "outputId": "3736d774-e49b-4dc6-9536-d2c38dc492cb"
      },
      "source": [
        "#Checking all Classes in the train data \n",
        "os.listdir(train_path)"
      ],
      "execution_count": 6,
      "outputs": [
        {
          "output_type": "execute_result",
          "data": {
            "text/plain": [
              "['Apple Red Yellow 2',\n",
              " 'Apple Red Yellow 1',\n",
              " 'Apple Red Delicious',\n",
              " 'Apple Red 3',\n",
              " 'Apple Red 2',\n",
              " 'Apple Golden 2',\n",
              " 'Apple Pink Lady',\n",
              " 'Apple Golden 3',\n",
              " 'Apple Granny Smith',\n",
              " 'Apple Golden 1',\n",
              " 'Apple Red 1',\n",
              " 'Apple Braeburn',\n",
              " 'Apple Crimson Snow']"
            ]
          },
          "metadata": {},
          "execution_count": 6
        }
      ]
    },
    {
      "cell_type": "code",
      "metadata": {
        "colab": {
          "base_uri": "https://localhost:8080/"
        },
        "id": "X5wNc7GHk8eo",
        "outputId": "9e163b47-0663-4293-fb43-6674440ccdb3"
      },
      "source": [
        "#Checking all Classes in the test data \n",
        "os.listdir(test_path)"
      ],
      "execution_count": 7,
      "outputs": [
        {
          "output_type": "execute_result",
          "data": {
            "text/plain": [
              "['Apple Red Yellow 2',\n",
              " 'Apple Red Delicious',\n",
              " 'Apple Red Yellow 1',\n",
              " 'Apple Red 1',\n",
              " 'Apple Red 3',\n",
              " 'Apple Red 2',\n",
              " 'Apple Granny Smith',\n",
              " 'Apple Golden 2',\n",
              " 'Apple Crimson Snow',\n",
              " 'Apple Pink Lady',\n",
              " 'Apple Braeburn',\n",
              " 'Apple Golden 3',\n",
              " 'Apple Golden 1']"
            ]
          },
          "metadata": {},
          "execution_count": 7
        }
      ]
    },
    {
      "cell_type": "code",
      "metadata": {
        "colab": {
          "base_uri": "https://localhost:8080/",
          "height": 34
        },
        "id": "qsD4G-k3oUdX",
        "outputId": "9efc1b8f-0d94-48a8-9e3b-01625c843876"
      },
      "source": [
        "#Retrieving and viewing one image from the train data\n",
        "os.listdir(train_path+'/Apple Red Yellow 1')[0]"
      ],
      "execution_count": 8,
      "outputs": [
        {
          "output_type": "execute_result",
          "data": {
            "application/vnd.google.colaboratory.intrinsic+json": {
              "type": "string"
            },
            "text/plain": [
              "'246_100.jpg'"
            ]
          },
          "metadata": {},
          "execution_count": 8
        }
      ]
    },
    {
      "cell_type": "code",
      "metadata": {
        "id": "CcHAn_kloYQf"
      },
      "source": [
        "apple_1 = train_path+'/Apple Red Yellow 1'+ '/246_100.jpg'"
      ],
      "execution_count": 9,
      "outputs": []
    },
    {
      "cell_type": "code",
      "metadata": {
        "id": "r_Ug383wofEY"
      },
      "source": [
        "fruit1 = imread(apple_1)"
      ],
      "execution_count": 10,
      "outputs": []
    },
    {
      "cell_type": "code",
      "metadata": {
        "colab": {
          "base_uri": "https://localhost:8080/",
          "height": 288
        },
        "id": "g8rU_-HYojwI",
        "outputId": "2f7a20a3-a654-4a47-a4ea-02c85e7290f7"
      },
      "source": [
        "plt.imshow(fruit1)"
      ],
      "execution_count": 12,
      "outputs": [
        {
          "output_type": "execute_result",
          "data": {
            "text/plain": [
              "<matplotlib.image.AxesImage at 0x7f45155a80d0>"
            ]
          },
          "metadata": {},
          "execution_count": 12
        },
        {
          "output_type": "display_data",
          "data": {
            "image/png": "[encoded data removed]",
            "text/plain": [
              "<Figure size 432x288 with 1 Axes>"
            ]
          },
          "metadata": {}
        }
      ]
    },
    {
      "cell_type": "code",
      "metadata": {
        "colab": {
          "base_uri": "https://localhost:8080/"
        },
        "id": "FgBIdW7po0lW",
        "outputId": "f0838e10-0860-4609-91ef-927448df2be0"
      },
      "source": [
        "fruit1.shape"
      ],
      "execution_count": 13,
      "outputs": [
        {
          "output_type": "execute_result",
          "data": {
            "text/plain": [
              "(100, 100, 3)"
            ]
          },
          "metadata": {},
          "execution_count": 13
        }
      ]
    },
    {
      "cell_type": "code",
      "metadata": {
        "id": "VoqlIQwKhhSn"
      },
      "source": [
        "#Order the classes in ascending or and retrieve the image data accordingly\n",
        "classes = ['Apple Red Yellow 2',\n",
        " 'Apple Red Delicious',\n",
        " 'Apple Red Yellow 1',\n",
        " 'Apple Red 1',\n",
        " 'Apple Red 3',\n",
        " 'Apple Red 2',\n",
        " 'Apple Granny Smith',\n",
        " 'Apple Golden 2',\n",
        " 'Apple Crimson Snow',\n",
        " 'Apple Pink Lady',\n",
        " 'Apple Braeburn',\n",
        " 'Apple Golden 3',\n",
        " 'Apple Golden 1']\n",
        "\n",
        "classes = sorted(classes)"
      ],
      "execution_count": 14,
      "outputs": []
    },
    {
      "cell_type": "code",
      "metadata": {
        "colab": {
          "base_uri": "https://localhost:8080/"
        },
        "id": "U5pt6wKlh5Hw",
        "outputId": "a01e73b9-04b2-46aa-e765-38268de25e03"
      },
      "source": [
        "classes"
      ],
      "execution_count": 15,
      "outputs": [
        {
          "output_type": "execute_result",
          "data": {
            "text/plain": [
              "['Apple Braeburn',\n",
              " 'Apple Crimson Snow',\n",
              " 'Apple Golden 1',\n",
              " 'Apple Golden 2',\n",
              " 'Apple Golden 3',\n",
              " 'Apple Granny Smith',\n",
              " 'Apple Pink Lady',\n",
              " 'Apple Red 1',\n",
              " 'Apple Red 2',\n",
              " 'Apple Red 3',\n",
              " 'Apple Red Delicious',\n",
              " 'Apple Red Yellow 1',\n",
              " 'Apple Red Yellow 2']"
            ]
          },
          "metadata": {},
          "execution_count": 15
        }
      ]
    },
    {
      "cell_type": "code",
      "metadata": {
        "id": "sywGQhTBjMnZ"
      },
      "source": [
        "#Retrieving the image data from the directories\n",
        "all_arrays=[]\n",
        "img_size=100\n",
        "\n",
        "for i in classes:\n",
        "    path=os.path.join(train_path,i)\n",
        "    class_num=classes.index(i)\n",
        "    for img in os.listdir(path):\n",
        "        #img_array=cv2.imread(os.path.join(path,img),\n",
        "        #                     cv2.IMREAD_GRAYSCALE)\n",
        "        img_array=cv2.imread(os.path.join(path,img))\n",
        "        img_array=cv2.cvtColor(img_array, cv2.COLOR_BGR2RGB)\n",
        "        #img_array=cv2.resize(img_array,(img_size,img_size))\n",
        "        all_arrays.append([img_array,class_num])\n",
        "    \n",
        "\n",
        "all_arrays2=[]\n",
        "#img_size=100\n",
        "\n",
        "for i in classes:\n",
        "    path=os.path.join(test_path,i)\n",
        "    class_num2=classes.index(i)\n",
        "    for img in os.listdir(path):\n",
        "        #img_array2=cv2.imread(os.path.join(path,img),\n",
        "        #                     cv2.IMREAD_GRAYSCALE)\n",
        "        img_array2=cv2.imread(os.path.join(path,img))\n",
        "        img_array2=cv2.cvtColor(img_array2, cv2.COLOR_BGR2RGB)\n",
        "        #img_array2=cv2.resize(img_array2,(img_size,img_size))\n",
        "        all_arrays2.append([img_array2,class_num2])\n"
      ],
      "execution_count": 17,
      "outputs": []
    },
    {
      "cell_type": "code",
      "metadata": {
        "id": "1VU2cB_AnJ7-"
      },
      "source": [
        "#Shuffling the data up, to aid avoid overfitting\n",
        "import random\n",
        "random.shuffle(all_arrays)\n",
        "\n",
        "X_train=[]\n",
        "Y_train=[]\n",
        "for features,label in all_arrays:\n",
        "    X_train.append(features)\n",
        "    Y_train.append(label)\n",
        "X_train=np.array(X_train) #arraying\n",
        "\n",
        "import random\n",
        "random.shuffle(all_arrays2)\n",
        "\n",
        "X_test=[]\n",
        "Y_test=[]\n",
        "for features,label in all_arrays2:\n",
        "    X_test.append(features)\n",
        "    Y_test.append(label)\n",
        "X_test=np.array(X_test) #arraying\n"
      ],
      "execution_count": 21,
      "outputs": []
    },
    {
      "cell_type": "code",
      "metadata": {
        "id": "RDTjRM7JrLod",
        "colab": {
          "base_uri": "https://localhost:8080/"
        },
        "outputId": "e600deff-bf8c-4871-e0cf-db12a6e04509"
      },
      "source": [
        "#normalization and reshaping\n",
        "X_train=X_train.reshape(-1,img_size,img_size,3)\n",
        "X_train=X_train/255\n",
        "X_test=X_test.reshape(-1,img_size,img_size,3)\n",
        "X_test=X_test/255\n",
        "print(\"shape of X_train= \",X_train.shape)\n",
        "print(\"shape of X_test=  \",X_test.shape)"
      ],
      "execution_count": 22,
      "outputs": [
        {
          "output_type": "stream",
          "name": "stdout",
          "text": [
            "shape of X_train=  (6404, 100, 100, 3)\n",
            "shape of X_test=   (2134, 100, 100, 3)\n"
          ]
        }
      ]
    },
    {
      "cell_type": "code",
      "metadata": {
        "id": "cCoscK2nt6uL"
      },
      "source": [
        "#One hot encoding\n",
        "from tensorflow.keras.utils import to_categorical\n",
        "Y_train=to_categorical(Y_train)\n",
        "Y_test=to_categorical(Y_test)"
      ],
      "execution_count": 23,
      "outputs": []
    },
    {
      "cell_type": "code",
      "metadata": {
        "colab": {
          "base_uri": "https://localhost:8080/"
        },
        "id": "I_e_SMbJuKYG",
        "outputId": "f97c82d4-d3e6-4a48-fb77-8ce5fbe4c10a"
      },
      "source": [
        "Y_train.shape, Y_test.shape"
      ],
      "execution_count": null,
      "outputs": [
        {
          "output_type": "execute_result",
          "data": {
            "text/plain": [
              "((6404, 13), (2134, 13))"
            ]
          },
          "metadata": {},
          "execution_count": 28
        }
      ]
    },
    {
      "cell_type": "code",
      "metadata": {
        "colab": {
          "base_uri": "https://localhost:8080/"
        },
        "id": "sy6D6g6nun2V",
        "outputId": "bf7a36a5-df6d-444c-a4be-e44c97cb6961"
      },
      "source": [
        "X_train.shape, X_test.shape"
      ],
      "execution_count": null,
      "outputs": [
        {
          "output_type": "execute_result",
          "data": {
            "text/plain": [
              "((6404, 100, 100, 3), (2134, 100, 100, 3))"
            ]
          },
          "metadata": {},
          "execution_count": 29
        }
      ]
    },
    {
      "cell_type": "code",
      "metadata": {
        "id": "NuJ_l-D7u5ct"
      },
      "source": [
        "from sklearn.model_selection import  train_test_split\n",
        "x_train,x_val,y_train,y_val=train_test_split(X_train,Y_train,test_size=0.3,random_state=42)"
      ],
      "execution_count": null,
      "outputs": []
    },
    {
      "cell_type": "markdown",
      "metadata": {
        "id": "8abBWiO_Vkb8"
      },
      "source": [
        "**Building the Convolutional Neural Network Model to Classify the Apples according to the 13 classes**"
      ]
    },
    {
      "cell_type": "code",
      "metadata": {
        "id": "Tz21z8YgvBVK"
      },
      "source": [
        "from tensorflow.keras.models import Sequential\n",
        "from tensorflow.keras.layers import Activation, Dropout, Flatten, Dense, Conv2D, MaxPooling2D, BatchNormalization"
      ],
      "execution_count": null,
      "outputs": []
    },
    {
      "cell_type": "code",
      "metadata": {
        "id": "QVnT1NAavVmI"
      },
      "source": [
        "model = Sequential()\n",
        "\n",
        "model.add(Conv2D(filters=32, kernel_size=(3,3),input_shape=(100,100,3), activation='relu',))\n",
        "model.add(MaxPooling2D(pool_size=(2, 2)))\n",
        "model.add(Dropout(0.35))\n",
        "\n",
        "model.add(Conv2D(filters=64, kernel_size=(3,3), activation='relu',))\n",
        "model.add(MaxPooling2D(pool_size=(2, 2)))\n",
        "model.add(Dropout(0.35))\n",
        "\n",
        "\n",
        "model.add(Conv2D(filters=64, kernel_size=(3,3), activation='relu',))\n",
        "model.add(MaxPooling2D(pool_size=(2, 2)))\n",
        "\n",
        "\n",
        "\n",
        "model.add(Flatten())\n",
        "\n",
        "\n",
        "model.add(Dense(128))\n",
        "model.add(Activation('relu'))\n",
        "\n",
        "model.add(Dropout(0.5))\n",
        "\n",
        "model.add(Dense(64))\n",
        "model.add(Activation('relu'))\n",
        "\n",
        "# Dropouts help reduce overfitting by randomly turning neurons off during training.\n",
        "# Here we say randomly turn off 50% of neurons.\n",
        "model.add(Dropout(0.5))\n",
        "\n",
        "# Last layer is multiclass so categorical_crossentropy is used\n",
        "\n",
        "model.add(Dense(13, activation='softmax'))\n",
        "\n",
        "model.compile(loss='categorical_crossentropy',\n",
        "              optimizer='adam',\n",
        "              metrics=['accuracy'])"
      ],
      "execution_count": null,
      "outputs": []
    },
    {
      "cell_type": "code",
      "metadata": {
        "colab": {
          "base_uri": "https://localhost:8080/"
        },
        "id": "Cb7Dkz-LxXfi",
        "outputId": "8b0cadf1-a2f8-41bd-ca34-92542644be1e"
      },
      "source": [
        "model.summary()"
      ],
      "execution_count": null,
      "outputs": [
        {
          "output_type": "stream",
          "name": "stdout",
          "text": [
            "Model: \"sequential\"\n",
            "_________________________________________________________________\n",
            "Layer (type)                 Output Shape              Param #   \n",
            "=================================================================\n",
            "conv2d (Conv2D)              (None, 98, 98, 32)        896       \n",
            "_________________________________________________________________\n",
            "max_pooling2d (MaxPooling2D) (None, 49, 49, 32)        0         \n",
            "_________________________________________________________________\n",
            "dropout (Dropout)            (None, 49, 49, 32)        0         \n",
            "_________________________________________________________________\n",
            "conv2d_1 (Conv2D)            (None, 47, 47, 64)        18496     \n",
            "_________________________________________________________________\n",
            "max_pooling2d_1 (MaxPooling2 (None, 23, 23, 64)        0         \n",
            "_________________________________________________________________\n",
            "dropout_1 (Dropout)          (None, 23, 23, 64)        0         \n",
            "_________________________________________________________________\n",
            "conv2d_2 (Conv2D)            (None, 21, 21, 64)        36928     \n",
            "_________________________________________________________________\n",
            "max_pooling2d_2 (MaxPooling2 (None, 10, 10, 64)        0         \n",
            "_________________________________________________________________\n",
            "flatten (Flatten)            (None, 6400)              0         \n",
            "_________________________________________________________________\n",
            "dense (Dense)                (None, 128)               819328    \n",
            "_________________________________________________________________\n",
            "activation (Activation)      (None, 128)               0         \n",
            "_________________________________________________________________\n",
            "dropout_2 (Dropout)          (None, 128)               0         \n",
            "_________________________________________________________________\n",
            "dense_1 (Dense)              (None, 64)                8256      \n",
            "_________________________________________________________________\n",
            "activation_1 (Activation)    (None, 64)                0         \n",
            "_________________________________________________________________\n",
            "dropout_3 (Dropout)          (None, 64)                0         \n",
            "_________________________________________________________________\n",
            "dense_2 (Dense)              (None, 13)                845       \n",
            "=================================================================\n",
            "Total params: 884,749\n",
            "Trainable params: 884,749\n",
            "Non-trainable params: 0\n",
            "_________________________________________________________________\n"
          ]
        }
      ]
    },
    {
      "cell_type": "code",
      "metadata": {
        "id": "1KugShBAxbX9"
      },
      "source": [
        "from tensorflow.keras.callbacks import EarlyStopping"
      ],
      "execution_count": null,
      "outputs": []
    },
    {
      "cell_type": "code",
      "metadata": {
        "id": "0ZS8HOFjxbhp"
      },
      "source": [
        "early_stop = EarlyStopping(monitor='val_loss',patience=2)"
      ],
      "execution_count": null,
      "outputs": []
    },
    {
      "cell_type": "code",
      "metadata": {
        "id": "0aIaa31_yJNr"
      },
      "source": [
        "image_shape = (100,100,3)\n",
        "batch_size = 16"
      ],
      "execution_count": null,
      "outputs": []
    },
    {
      "cell_type": "code",
      "metadata": {
        "id": "9EKqu3fYyR_X"
      },
      "source": [
        "#Augmenting the data, this helps control overfitting\n",
        "from tensorflow.keras.preprocessing.image import ImageDataGenerator"
      ],
      "execution_count": null,
      "outputs": []
    },
    {
      "cell_type": "code",
      "metadata": {
        "id": "mB2uXCMfyWjN"
      },
      "source": [
        "image_gen = ImageDataGenerator(rotation_range=20, # rotate the image 20 degrees\n",
        "                               width_shift_range=0.10, # Shift the pic width by a max of 10%\n",
        "                               height_shift_range=0.10, # Shift the pic height by a max of 10%\n",
        "                               #rescale=1/255, Rescale the image by normalzing it.\n",
        "                               shear_range=0.1, # Shear means cutting away part of the image (max 10%)\n",
        "                               zoom_range=0.1, # Zoom in by 10% max\n",
        "                               horizontal_flip=True, # Allo horizontal flipping\n",
        "                               fill_mode='nearest' # Fill in missing pixels with the nearest filled value\n",
        "                              )\n",
        "image_gen.fit(x_train)"
      ],
      "execution_count": null,
      "outputs": []
    },
    {
      "cell_type": "code",
      "metadata": {
        "colab": {
          "base_uri": "https://localhost:8080/"
        },
        "id": "G8jA7c_4zAQt",
        "outputId": "80726dc1-0ddc-4f2b-b6f6-cab6953155fb"
      },
      "source": [
        "history=model.fit_generator(image_gen.flow(x_train,y_train,batch_size=batch_size),epochs=20,\n",
        "                            validation_data=(x_val,y_val),steps_per_epoch=x_train.shape[0] //batch_size,\n",
        "                            callbacks=[early_stop]\n",
        "                           )"
      ],
      "execution_count": null,
      "outputs": [
        {
          "output_type": "stream",
          "name": "stderr",
          "text": [
            "/usr/local/lib/python3.7/dist-packages/keras/engine/training.py:1972: UserWarning: `Model.fit_generator` is deprecated and will be removed in a future version. Please use `Model.fit`, which supports generators.\n",
            "  warnings.warn('`Model.fit_generator` is deprecated and '\n"
          ]
        },
        {
          "output_type": "stream",
          "name": "stdout",
          "text": [
            "Epoch 1/20\n",
            "280/280 [==============================] - 89s 319ms/step - loss: 0.4879 - accuracy: 0.8318 - val_loss: 0.1167 - val_accuracy: 0.9807\n",
            "Epoch 2/20\n",
            "280/280 [==============================] - 89s 319ms/step - loss: 0.3818 - accuracy: 0.8708 - val_loss: 0.1134 - val_accuracy: 0.9875\n",
            "Epoch 3/20\n",
            "280/280 [==============================] - 90s 321ms/step - loss: 0.3485 - accuracy: 0.8793 - val_loss: 0.0616 - val_accuracy: 0.9823\n",
            "Epoch 4/20\n",
            "280/280 [==============================] - 91s 324ms/step - loss: 0.4348 - accuracy: 0.8491 - val_loss: 0.0634 - val_accuracy: 0.9901\n",
            "Epoch 5/20\n",
            "280/280 [==============================] - 90s 320ms/step - loss: 0.3278 - accuracy: 0.8858 - val_loss: 0.0960 - val_accuracy: 0.9683\n"
          ]
        }
      ]
    },
    {
      "cell_type": "code",
      "metadata": {
        "id": "RAOQHA540r33"
      },
      "source": [
        "losses = pd.DataFrame(model.history.history)"
      ],
      "execution_count": null,
      "outputs": []
    },
    {
      "cell_type": "code",
      "metadata": {
        "colab": {
          "base_uri": "https://localhost:8080/",
          "height": 285
        },
        "id": "qwnjXTjr1V6c",
        "outputId": "a5e47f22-43b4-4ee6-8525-13cf6aec0744"
      },
      "source": [
        "plt.figure(figsize=(10,8))\n",
        "losses[['loss','val_loss']].plot()\n",
        "plt.savefig('pomme_losses')"
      ],
      "execution_count": null,
      "outputs": [
        {
          "output_type": "display_data",
          "data": {
            "text/plain": [
              "<Figure size 720x576 with 0 Axes>"
            ]
          },
          "metadata": {}
        },
        {
          "output_type": "display_data",
          "data": {
            "image/png": "[encoded data removed]",
            "text/plain": [
              "<Figure size 432x288 with 1 Axes>"
            ]
          },
          "metadata": {}
        }
      ]
    },
    {
      "cell_type": "markdown",
      "metadata": {
        "id": "JMNpY449kMFe"
      },
      "source": [
        "The model recorded an impressive validation loss of almost 0.1"
      ]
    },
    {
      "cell_type": "code",
      "metadata": {
        "colab": {
          "base_uri": "https://localhost:8080/",
          "height": 285
        },
        "id": "-6gATF5U1bPo",
        "outputId": "59aa5c8a-e817-4de2-9449-3fc945143752"
      },
      "source": [
        "plt.figure(figsize=(10,8))\n",
        "losses[['accuracy','val_accuracy']].plot()\n",
        "plt.savefig('pomme_accuracy')"
      ],
      "execution_count": null,
      "outputs": [
        {
          "output_type": "display_data",
          "data": {
            "text/plain": [
              "<Figure size 720x576 with 0 Axes>"
            ]
          },
          "metadata": {}
        },
        {
          "output_type": "display_data",
          "data": {
            "image/png": "[encoded data removed]",
            "text/plain": [
              "<Figure size 432x288 with 1 Axes>"
            ]
          },
          "metadata": {}
        }
      ]
    },
    {
      "cell_type": "markdown",
      "metadata": {
        "id": "By9fEOELkeek"
      },
      "source": [
        "The model had a high accuracy even though the final epoch did not record the highest accuracy."
      ]
    },
    {
      "cell_type": "markdown",
      "metadata": {
        "id": "KGCQUkIjkyH0"
      },
      "source": [
        "# Predicting on an unseen data and Evaluation matrices"
      ]
    },
    {
      "cell_type": "code",
      "metadata": {
        "id": "3xxq4uva1hnA"
      },
      "source": [
        "y_true=np.argmax(y_val,axis=1)\n",
        "\n"
      ],
      "execution_count": null,
      "outputs": []
    },
    {
      "cell_type": "code",
      "metadata": {
        "id": "rK4uLo502IIl"
      },
      "source": [
        "y_pred = np.argmax(model.predict(x_val), axis=-1)"
      ],
      "execution_count": null,
      "outputs": []
    },
    {
      "cell_type": "code",
      "metadata": {
        "id": "IhNMC2qN2Y5C"
      },
      "source": [
        "from sklearn.metrics import classification_report,confusion_matrix"
      ],
      "execution_count": null,
      "outputs": []
    },
    {
      "cell_type": "code",
      "metadata": {
        "colab": {
          "base_uri": "https://localhost:8080/"
        },
        "id": "yBmXB4jF2fZ3",
        "outputId": "cd99feef-6a46-49eb-b412-1702ffb061aa"
      },
      "source": [
        "print(classification_report(y_true,y_pred))"
      ],
      "execution_count": null,
      "outputs": [
        {
          "output_type": "stream",
          "name": "stdout",
          "text": [
            "              precision    recall  f1-score   support\n",
            "\n",
            "           0       1.00      0.99      0.99       146\n",
            "           1       0.99      1.00      0.99       132\n",
            "           2       0.96      0.99      0.97       148\n",
            "           3       0.99      0.99      0.99       166\n",
            "           4       0.99      0.65      0.79       138\n",
            "           5       0.74      1.00      0.85       139\n",
            "           6       1.00      0.99      0.99       150\n",
            "           7       1.00      1.00      1.00       145\n",
            "           8       0.99      1.00      0.99       158\n",
            "           9       1.00      1.00      1.00       105\n",
            "          10       1.00      1.00      1.00       149\n",
            "          11       1.00      0.96      0.98       144\n",
            "          12       1.00      1.00      1.00       202\n",
            "\n",
            "    accuracy                           0.97      1922\n",
            "   macro avg       0.97      0.97      0.97      1922\n",
            "weighted avg       0.97      0.97      0.97      1922\n",
            "\n"
          ]
        }
      ]
    },
    {
      "cell_type": "markdown",
      "metadata": {
        "id": "CQP86CBHYxBt"
      },
      "source": [
        "This model has a precision of 97% thus of all positive predictions, 97% are accurate. It also has a recall of 97% meaning of all predictions, 97% of positive predictions were correct. 97% F1-score implies that the harmornic mean of precision and recall is 97% that confirms the superb precision and recall of the model.\n",
        "\n",
        "As much as this model is great all round, in this case high precison is the most sufficient. This is because with this model, we intend getting more true positives, thus getting positive preditions right at a high rate. "
      ]
    },
    {
      "cell_type": "code",
      "metadata": {
        "colab": {
          "base_uri": "https://localhost:8080/",
          "height": 736
        },
        "id": "h3NdF_GQ3G0p",
        "outputId": "43810219-6298-48f7-a818-fc555fc9e8fc"
      },
      "source": [
        "plt.figure(figsize=(12,12))\n",
        "sns.heatmap(confusion_matrix(y_true,y_pred),annot=True,lw =2,cbar=False)\n",
        "plt.ylabel(\"True Values\")\n",
        "plt.xlabel(\"Predicted Values\")\n",
        "plt.title(\"CONFUSSION MATRIX VISUALIZATION\")\n",
        "plt.savefig('confmatrixpomme')\n",
        "plt.show()"
      ],
      "execution_count": null,
      "outputs": [
        {
          "output_type": "display_data",
          "data": {
            "image/png": "[encoded data removed]",
            "text/plain": [
              "<Figure size 864x864 with 1 Axes>"
            ]
          },
          "metadata": {}
        }
      ]
    },
    {
      "cell_type": "markdown",
      "metadata": {
        "id": "BvavXC3xjOAw"
      },
      "source": [
        "**Making predictions with the model**"
      ]
    },
    {
      "cell_type": "code",
      "metadata": {
        "id": "OpW1JboE43ah"
      },
      "source": [
        "from tensorflow.keras.preprocessing import image"
      ],
      "execution_count": null,
      "outputs": []
    },
    {
      "cell_type": "code",
      "metadata": {
        "colab": {
          "base_uri": "https://localhost:8080/",
          "height": 117
        },
        "id": "9WlvuE0g44bG",
        "outputId": "58d2629b-1594-4ec8-f166-d8f05e64c913"
      },
      "source": [
        "my_image = image.load_img(apple_1,target_size=image_shape)\n",
        "my_image"
      ],
      "execution_count": null,
      "outputs": [
        {
          "output_type": "execute_result",
          "data": {
            "image/png": "[encoded data removed]",
            "text/plain": [
              "<PIL.JpegImagePlugin.JpegImageFile image mode=RGB size=100x100 at 0x7F17F3DF88D0>"
            ]
          },
          "metadata": {},
          "execution_count": 108
        }
      ]
    },
    {
      "cell_type": "code",
      "metadata": {
        "colab": {
          "base_uri": "https://localhost:8080/"
        },
        "id": "wtgHaMF15BzR",
        "outputId": "2fe9f3cc-9de7-49e1-bb87-00fcc7d60a69"
      },
      "source": [
        "type(my_image)"
      ],
      "execution_count": null,
      "outputs": [
        {
          "output_type": "execute_result",
          "data": {
            "text/plain": [
              "PIL.JpegImagePlugin.JpegImageFile"
            ]
          },
          "metadata": {},
          "execution_count": 109
        }
      ]
    },
    {
      "cell_type": "code",
      "metadata": {
        "id": "lZK2pigB5HSj"
      },
      "source": [
        "my_image = image.img_to_array(my_image)"
      ],
      "execution_count": null,
      "outputs": []
    },
    {
      "cell_type": "code",
      "metadata": {
        "colab": {
          "base_uri": "https://localhost:8080/"
        },
        "id": "t5H88V2B5Qkr",
        "outputId": "7b909ff1-83ec-4e7c-d073-b35ce0088552"
      },
      "source": [
        "type(my_image)"
      ],
      "execution_count": null,
      "outputs": [
        {
          "output_type": "execute_result",
          "data": {
            "text/plain": [
              "numpy.ndarray"
            ]
          },
          "metadata": {},
          "execution_count": 111
        }
      ]
    },
    {
      "cell_type": "code",
      "metadata": {
        "colab": {
          "base_uri": "https://localhost:8080/"
        },
        "id": "FbZ0078J5TFf",
        "outputId": "34ca30cf-591f-4ff2-8e97-d904c43c868d"
      },
      "source": [
        "my_image.shape "
      ],
      "execution_count": null,
      "outputs": [
        {
          "output_type": "execute_result",
          "data": {
            "text/plain": [
              "(100, 100, 3)"
            ]
          },
          "metadata": {},
          "execution_count": 112
        }
      ]
    },
    {
      "cell_type": "code",
      "metadata": {
        "colab": {
          "base_uri": "https://localhost:8080/"
        },
        "id": "0qvmzdWa5rA-",
        "outputId": "0cf465be-1091-4a74-faec-4a13dd3c1fea"
      },
      "source": [
        "my_image = np.expand_dims(my_image, axis=0)\n",
        "my_image.shape"
      ],
      "execution_count": null,
      "outputs": [
        {
          "output_type": "execute_result",
          "data": {
            "text/plain": [
              "(1, 100, 100, 3)"
            ]
          },
          "metadata": {},
          "execution_count": 113
        }
      ]
    },
    {
      "cell_type": "code",
      "metadata": {
        "id": "gi1iNFsXjtUR"
      },
      "source": [
        "#Predicting he class of the image (The model predicted corect)\n",
        "np.argmax(model.predict(my_image))"
      ],
      "execution_count": null,
      "outputs": []
    },
    {
      "cell_type": "markdown",
      "metadata": {
        "id": "gL_g0xQkj162"
      },
      "source": [
        "**Saving and Loading the model**"
      ]
    },
    {
      "cell_type": "code",
      "metadata": {
        "id": "FiMMxqHD8NBT"
      },
      "source": [
        "model.save('la_pomme_cnn.h5')"
      ],
      "execution_count": null,
      "outputs": []
    },
    {
      "cell_type": "code",
      "metadata": {
        "id": "g0z2LVhf77p8"
      },
      "source": [
        "from tensorflow.keras.models import load_model"
      ],
      "execution_count": null,
      "outputs": []
    },
    {
      "cell_type": "code",
      "metadata": {
        "id": "G2i7KJiz78xh"
      },
      "source": [
        "modelx = load_model('la_pomme_cnn.h5')"
      ],
      "execution_count": null,
      "outputs": []
    }
  ]
}